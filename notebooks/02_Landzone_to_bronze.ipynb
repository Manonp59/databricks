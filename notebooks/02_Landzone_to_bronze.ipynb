{
 "cells": [
  {
   "cell_type": "code",
   "execution_count": 0,
   "metadata": {
    "application/vnd.databricks.v1+cell": {
     "cellMetadata": {
      "byteLimit": 2048000,
      "rowLimit": 10000
     },
     "inputWidgets": {},
     "nuid": "ae101cfb-487c-4931-b64c-0d92f0ffe801",
     "showTitle": false,
     "tableResultSettingsMap": {},
     "title": ""
    }
   },
   "outputs": [],
   "source": [
    "import dlt\n",
    "from pyspark.sql.functions import input_file_name\n",
    "\n",
    "# Récupérer la clé dans un secret\n",
    "storage_key = dbutils.secrets.get(scope=\"my-scope\", key=\"adls-key\")\n",
    "\n",
    "# Configurer la clé dans Spark\n",
    "spark.conf.set(\n",
    "    \"fs.azure.account.key.datalakequaliteeau.dfs.core.windows.net\",\n",
    "    storage_key\n",
    ")\n",
    "\n",
    "# Fonction pour charger tous les fichiers d'un dossier en une table bronze\n",
    "def create_bronze_table(folder_name, table_name):\n",
    "    path = f\"abfss://source@datalakequaliteeau.dfs.core.windows.net/{folder_name}\"\n",
    "    return (\n",
    "        spark.read.format(\"csv\")\n",
    "            .option(\"header\", \"true\")   # si la première ligne est un header\n",
    "            .option(\"delimiter\", \",\")  # ou \";\" ou \",\" selon votre fichier\n",
    "            .load(path)\n",
    "            )\n",
    "\n",
    "# Table PLV\n",
    "@dlt.table(\n",
    "    name=\"bronze_plv\",\n",
    "    comment=\"Données PLV\",\n",
    "    table_properties={\n",
    "        \"quality\": \"bronze\"\n",
    "    }\n",
    ")\n",
    "def bronze_plv():\n",
    "    return create_bronze_table(\"PLV\", \"bronze_plv\")\n",
    "\n",
    "# Table COM\n",
    "@dlt.table(\n",
    "    name=\"bronze_com\",\n",
    "    comment=\"Données COM\",\n",
    "    table_properties={\n",
    "        \"quality\": \"bronze\"\n",
    "    }\n",
    ")\n",
    "def bronze_com():\n",
    "    return create_bronze_table(\"COM\", \"bronze_com\")\n",
    "\n",
    "# Table RESULT\n",
    "@dlt.table(\n",
    "    name=\"bronze_result\",\n",
    "    comment=\"Données RESULT\",\n",
    "    table_properties={\n",
    "        \"quality\": \"bronze\"\n",
    "    }\n",
    ")\n",
    "def bronze_result():\n",
    "    return create_bronze_table(\"RESULT\", \"bronze_result\")"
   ]
  }
 ],
 "metadata": {
  "application/vnd.databricks.v1+notebook": {
   "computePreferences": null,
   "dashboards": [],
   "environmentMetadata": {
    "base_environment": "",
    "environment_version": "4"
   },
   "inputWidgetPreferences": null,
   "language": "python",
   "notebookMetadata": {
    "pythonIndentUnit": 4
   },
   "notebookName": "02_Landzone_to_bronze",
   "widgets": {}
  },
  "language_info": {
   "name": "python"
  }
 },
 "nbformat": 4,
 "nbformat_minor": 0
}
